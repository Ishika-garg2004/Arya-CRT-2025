{
 "cells": [
  {
   "cell_type": "markdown",
   "metadata": {},
   "source": [
    "1.\tWrite a lambda function to merge two lists into a dictionary where one list represents keys and the other represents values. \n",
    " \n"
   ]
  },
  {
   "cell_type": "code",
   "execution_count": 2,
   "metadata": {},
   "outputs": [
    {
     "name": "stdout",
     "output_type": "stream",
     "text": [
      "{1: 4, 2: 6, 3: 5}\n"
     ]
    }
   ],
   "source": [
    "key=[1,2,3]\n",
    "value=[4,6,5]\n",
    "list=dict(map(lambda k, v:(k,v),key,value))\n",
    "print(list)\n",
    "\n"
   ]
  },
  {
   "cell_type": "markdown",
   "metadata": {},
   "source": [
    "2.\tCreate a class Product with instance variables name and price. Also, add a class variable discount_rate and a method to calculate the discounted price. "
   ]
  },
  {
   "cell_type": "code",
   "execution_count": 8,
   "metadata": {},
   "outputs": [
    {
     "name": "stdout",
     "output_type": "stream",
     "text": [
      "Discount_price: 34000.0\n"
     ]
    }
   ],
   "source": [
    "class Product:\n",
    "    discount_rate=15\n",
    "    def __init__(self):\n",
    "        self.name=\"HP\"\n",
    "        self.price=40000\n",
    "    def display(self):\n",
    "        discounted_price=self.price-(self.price*(self.discount_rate/100))\n",
    "        print(\"Discount_price:\",discounted_price)\n",
    "obj = Product()\n",
    "obj.display()\n"
   ]
  },
  {
   "cell_type": "markdown",
   "metadata": {},
   "source": [
    "3.Create a base class Shape with a method area(). Derive two subclasses Circle and Rectangle, each implementing their own area() method. (INHERITANCE)"
   ]
  },
  {
   "cell_type": "code",
   "execution_count": 18,
   "metadata": {},
   "outputs": [
    {
     "name": "stdout",
     "output_type": "stream",
     "text": [
      "12.56\n",
      "10\n"
     ]
    }
   ],
   "source": [
    "class Shape:\n",
    "    def area(self):\n",
    "        pass  \n",
    "\n",
    "class Circle(Shape):\n",
    "    def __init__(self, r):\n",
    "        self.r = r  \n",
    "\n",
    "    def area(self):\n",
    "        print(3.14 * self.r * self.r)  \n",
    "\n",
    "class Rectangle(Shape):\n",
    "    def __init__(self, length, width):\n",
    "        self.length = length  \n",
    "        self.width = width \n",
    "\n",
    "    def area(self):\n",
    "        print(self.length * self.width)  \n",
    "\n",
    "\n",
    "obj1 = Circle(2) \n",
    "obj1.area()  \n",
    "\n",
    "obj2 = Rectangle(2, 5)  \n",
    "obj2.area()\n"
   ]
  },
  {
   "cell_type": "markdown",
   "metadata": {},
   "source": [
    "4.\tCreate two base classes Person and Employee, and derive a class Manager from both. (MULTIPLE INHERITANCE)  "
   ]
  },
  {
   "cell_type": "code",
   "execution_count": 23,
   "metadata": {},
   "outputs": [
    {
     "name": "stdout",
     "output_type": "stream",
     "text": [
      "name of person: Ishika Garg\n",
      "employee_id E1\n",
      "manager name Ishika\n"
     ]
    }
   ],
   "source": [
    "class Person:\n",
    "    def person(self):\n",
    "        self.name=\"Ishika Garg\"\n",
    "        print(\"name of person:\",self.name)\n",
    "class Employee:\n",
    "    def employee(self):\n",
    "        self.employee_id=\"E1\"\n",
    "        print(\"employee_id\",self.employee_id)\n",
    "class Manager(Person,Employee):\n",
    "    def manager(self):\n",
    "        self.manager=\"Ishika\"\n",
    "        print(\"manager name\",self.manager)\n",
    "obj = Manager()\n",
    "obj.person()\n",
    "obj.employee()\n",
    "obj.manager()\n",
    "\n"
   ]
  },
  {
   "cell_type": "markdown",
   "metadata": {},
   "source": [
    "5.\tImplement a function play_sound() that accepts different animal objects (Dog, Cat, Cow) and calls their make_sound() method dynamically. (POLYMORPHISM) "
   ]
  },
  {
   "cell_type": "code",
   "execution_count": 9,
   "metadata": {},
   "outputs": [
    {
     "name": "stdout",
     "output_type": "stream",
     "text": [
      "mewo\n",
      "bhoo\n",
      "moo\n"
     ]
    }
   ],
   "source": [
    "\n",
    "class cat:\n",
    "    def make_sound(self):\n",
    "        return \"mewo\"\n",
    "class dog:\n",
    "    def make_sound(self):\n",
    "        return \"bhoo\"\n",
    "class cow:\n",
    "    def make_sound(self):\n",
    "        return \"moo\"\n",
    "def play_sound(animal):\n",
    "        print(animal.make_sound())\n",
    "cat =cat()\n",
    "dog = dog()\n",
    "cow =cow()\n",
    "play_sound(cat)\n",
    "play_sound(dog)\n",
    "play_sound(cow)"
   ]
  },
  {
   "cell_type": "markdown",
   "metadata": {},
   "source": [
    "6.\tDesign a Car Rental System using Object-Oriented Programming (OOP) in Python. The system should include a Vehicle class and derived classes Car and Bike. Implement constructors and use inheritance to manage common and specific attributes"
   ]
  },
  {
   "cell_type": "code",
   "execution_count": null,
   "metadata": {},
   "outputs": [
    {
     "ename": "TypeError",
     "evalue": "bike.__init__() missing 1 required positional argument: 'model'",
     "output_type": "error",
     "traceback": [
      "\u001b[1;31m---------------------------------------------------------------------------\u001b[0m",
      "\u001b[1;31mTypeError\u001b[0m                                 Traceback (most recent call last)",
      "Cell \u001b[1;32mIn[38], line 15\u001b[0m\n\u001b[0;32m     12\u001b[0m         car\u001b[38;5;241m.\u001b[39m\u001b[38;5;21m__init__\u001b[39m(\u001b[38;5;28mself\u001b[39m)\n\u001b[0;32m     13\u001b[0m         bike\u001b[38;5;241m.\u001b[39m\u001b[38;5;21m__init__\u001b[39m(\u001b[38;5;28mself\u001b[39m)\n\u001b[1;32m---> 15\u001b[0m a \u001b[38;5;241m=\u001b[39m bike()\n",
      "\u001b[1;31mTypeError\u001b[0m: bike.__init__() missing 1 required positional argument: 'model'"
     ]
    }
   ],
   "source": [
    "class vechile:\n",
    "    def __init__(self,vechile_id,model,year,rental_rate):\n",
    "        self.vechile_id = vechile_id\n",
    "        self.model = model\n",
    "        self.year = year\n",
    "        self.rental_rate =rental_rate\n",
    "     \n",
    "    def display():\n",
    "        print(\"enter the vechile id:\",self.vechile_id)\n",
    "        print(\"enter the model:\",self.model)\n",
    "        print(\"enter the year of manufacturing:\",self.year)\n",
    "        print(\"enter the rental_rate\",self.year)\n",
    "        print(\"enter the vechile id:\",self.rental_rate)\n",
    "        \n",
    "class car(vechile):\n",
    "    def __init__(self,vechile_id,model,year,rental_rate):\n",
    "        \n",
    "class bike(vechile):\n",
    "    def __init__(self,vechile_id,model,year,rental_rate):\n",
    "        self.modle = \"a121\"\n",
    "        vechile.__init__(self)\n",
    "        car.__init__(self)\n",
    "        bike.__init__(self)\n",
    "\n",
    "a = bike()\n",
    "   \n"
   ]
  }
 ],
 "metadata": {
  "kernelspec": {
   "display_name": "base",
   "language": "python",
   "name": "python3"
  },
  "language_info": {
   "codemirror_mode": {
    "name": "ipython",
    "version": 3
   },
   "file_extension": ".py",
   "mimetype": "text/x-python",
   "name": "python",
   "nbconvert_exporter": "python",
   "pygments_lexer": "ipython3",
   "version": "3.12.7"
  }
 },
 "nbformat": 4,
 "nbformat_minor": 2
}
