{
 "cells": [
  {
   "cell_type": "markdown",
   "metadata": {},
   "source": [
    "1.\tWrite a function pascals_triangle(rows) that prints the first rows of Pascal’s Triangle using nested for loops. pascals_triangle(5)   Output: \n",
    "    1 \n",
    "   1 1 \n",
    "  1 2 1 \n",
    " 1 3 3 1 \n",
    "1 4 6 4 1 \n",
    " \n"
   ]
  },
  {
   "cell_type": "code",
   "execution_count": 1,
   "metadata": {},
   "outputs": [
    {
     "name": "stdout",
     "output_type": "stream",
     "text": [
      "    1\n",
      "   1 1\n",
      "  1 2 1\n",
      " 1 3 3 1\n",
      "1 4 6 4 1\n"
     ]
    }
   ],
   "source": [
    "def pascals_triangle(rows):\n",
    "    for i in range(rows):\n",
    "        row = [1]  \n",
    "        for j in range(1, i + 1):\n",
    "            row.append(row[j - 1] * (i - j + 1) // j)\n",
    "\n",
    "        print(\" \" * (rows - i - 1), end=\"\")\n",
    "        print(\" \".join(map(str, row)))\n",
    "\n",
    "pascals_triangle(5)"
   ]
  },
  {
   "cell_type": "markdown",
   "metadata": {},
   "source": [
    "2.\tExplain how the `continue` statement works in a loop. What are some scenarios where using `continue` is more beneficial than restructuring the loop?  \n",
    "   -  Coding Challenge:  Write a Python program that iterates through a list of numbers and prints only those numbers that are divisible by 3, using the `continue` statement. \n",
    "\n",
    "Ans.The continue statement in a loop skips the rest of the code for the current iteration and immediately moves to the next iteration.\n",
    "where using continue is more beneficial than restructuring loop\n",
    "1.Skipping Specific Cases\n",
    "When you only want to exclude a subset of values without affecting the rest of the loop\n",
    "2.Avoiding Deeply Nested Code\n",
    "Without continue, you might have extra indentation\n",
    "3.Skipping Invalid or Unwanted Data in a Loop\n",
    "When iterating over user input or file data"
   ]
  },
  {
   "cell_type": "code",
   "execution_count": 25,
   "metadata": {},
   "outputs": [
    {
     "name": "stdout",
     "output_type": "stream",
     "text": [
      "the no divisible by 3: 3\n",
      "the no divisible by 3: 6\n",
      "the no divisible by 3: 9\n"
     ]
    }
   ],
   "source": [
    "l=[1,2,3,4,5,6,7,8,9]\n",
    "for num in l:\n",
    "    if num % 3!= 0:\n",
    "        continue\n",
    "    print(\"the no divisible by 3:\",num)\n"
   ]
  },
  {
   "cell_type": "markdown",
   "metadata": {},
   "source": [
    "3.\tUse list comprehension to generate all Pythagorean triplets (a, b, c) where a² + b² = c² and a, b, c ≤ 50. "
   ]
  },
  {
   "cell_type": "code",
   "execution_count": 32,
   "metadata": {},
   "outputs": [
    {
     "name": "stdout",
     "output_type": "stream",
     "text": [
      "[(3, 4, 5), (5, 12, 13), (6, 8, 10), (7, 24, 25), (8, 15, 17), (9, 12, 15), (9, 40, 41), (10, 24, 26), (12, 16, 20), (12, 35, 37), (14, 48, 50), (15, 20, 25), (15, 36, 39), (16, 30, 34), (18, 24, 30), (20, 21, 29), (21, 28, 35), (24, 32, 40), (27, 36, 45), (30, 40, 50)]\n"
     ]
    }
   ],
   "source": [
    "\n",
    "pythogorean_triplet=[(a,b,c) for a in range(1, 51) \n",
    "                     for b in range(a, 51)  \n",
    "                     for c in range(b, 51) \n",
    "                     if a**2 + b**2 == c**2]\n",
    "\n",
    "print(pythogorean_triplet)"
   ]
  },
  {
   "cell_type": "markdown",
   "metadata": {},
   "source": [
    "4.\tWrite a function max_consecutive_sum(nums, k) that finds the maximum sum of k consecutive elements in a list.\n"
   ]
  },
  {
   "cell_type": "code",
   "execution_count": 56,
   "metadata": {},
   "outputs": [
    {
     "data": {
      "text/plain": [
       "15"
      ]
     },
     "execution_count": 56,
     "metadata": {},
     "output_type": "execute_result"
    }
   ],
   "source": [
    "num=[1,2,3,4,5,6]\n",
    "k=3\n",
    "def max_consecutive_sum(num,k):\n",
    "    return max(sum(num[i:i+k]) for i in range(len(num) - k + 1))\n",
    "max_consecutive_sum(num,k)"
   ]
  },
  {
   "cell_type": "markdown",
   "metadata": {},
   "source": [
    "5.\tWrite a function that takes a list as an argument and modifies it by appending a new item. Demonstrate how changes to the list inside the function affect the list outside the function. "
   ]
  },
  {
   "cell_type": "code",
   "execution_count": 52,
   "metadata": {},
   "outputs": [
    {
     "name": "stdout",
     "output_type": "stream",
     "text": [
      "inside function: [1, 2, 3, 4, 45]\n",
      "Outside function: [1, 2, 3, 4, 45]\n"
     ]
    }
   ],
   "source": [
    "list=[1,2,3,4]\n",
    "def func(list,new_item):\n",
    "    z=list.append(new_item)\n",
    "    print(\"inside function:\",list)\n",
    "\n",
    "func(list,45)\n",
    "print(\"Outside function:\", list)"
   ]
  },
  {
   "cell_type": "markdown",
   "metadata": {},
   "source": [
    "6.\tTake a number as input and print the Fibonacci sequence up to that many terms using User-defined functions.  "
   ]
  },
  {
   "cell_type": "code",
   "execution_count": 54,
   "metadata": {},
   "outputs": [
    {
     "name": "stdout",
     "output_type": "stream",
     "text": [
      "0 1 1 2 3 "
     ]
    }
   ],
   "source": [
    "n=int(input(\"enter a number\"))\n",
    "def fibonacci(n):\n",
    "    a,b =0,1\n",
    "    for i in range(n):\n",
    "        print(a, end=\" \")\n",
    "        a,b =b, a +b\n",
    "fibonacci(n)"
   ]
  }
 ],
 "metadata": {
  "kernelspec": {
   "display_name": "base",
   "language": "python",
   "name": "python3"
  },
  "language_info": {
   "codemirror_mode": {
    "name": "ipython",
    "version": 3
   },
   "file_extension": ".py",
   "mimetype": "text/x-python",
   "name": "python",
   "nbconvert_exporter": "python",
   "pygments_lexer": "ipython3",
   "version": "3.12.7"
  }
 },
 "nbformat": 4,
 "nbformat_minor": 2
}
